{
    "cells": [
     {
      "cell_type": "markdown",
      "metadata": {
       "id": "wNHdefsQz8mt"
      },
      "source": [
       "# Log Analyzer\n",
       "Implements some routines to analyses logs (currently Apache and Nginx) help you investigate stuff."
      ]
     },
     {
      "cell_type": "markdown",
      "metadata": {
       "id": "P5gD3SKVUHMQ"
      },
      "source": [
       "---\n",
       "## 1. Ingestion 🍖\n",
       "You will start the work by ingesting the data.\n",
       "\n",
       "Usually, logs are rotated and compressed so you might need to decompress and join all files in a single one.  Before uploading files in this notebook, you **must** compress them with [gzip](https://www.gnu.org/software/gzip/manual/gzip.html) because it makes things much more faster.\n",
       "💡 To make things even faster, you might also want to **filter** some logs before uploading them.  Here are some useful commands to run locally:\n",
       "\n",
       "```shell\n",
       "gzip -d *gz                                                # decompresses gzipped files\n",
       "cat *access.log* > apache-all.log                          # joins all `*access.log*`\n",
       "grep \"regex_filter\" apache-all.log > apache-filtered.log   # gets only lines that match `regex_filter`\n",
       "gzip apache-filtered.log                                   # compresses the file in `apache-filtered.log.gz`\n",
       "```"
      ]
     },
     {
      "cell_type": "code",
      "execution_count": null,
      "metadata": {
       "colab": {
        "base_uri": "https://localhost:8080/",
        "height": 109
       },
       "executionInfo": {
        "elapsed": 28795,
        "status": "ok",
        "timestamp": 1702496738491,
        "user": {
         "displayName": "José Lopes",
         "userId": "04430843439136972094"
        },
        "user_tz": 180
       },
       "id": "TFid1feJ06AO",
       "outputId": "55a1c1c8-022e-4f66-9a6c-ee090e01009d"
      },
      "outputs": [],
      "source": [
       "#@title Raw Log Upload\n",
       "import gzip as gz\n",
       "from os import rename\n",
       "from shutil import copyfileobj\n",
       "from google.colab import files\n",
       "\n",
       "RAW = 'raw.log'\n",
       "PARSED = 'parsed.csv'\n",
       "ERRORS = 'errors.log'\n",
       "\n",
       "print('Select and upload the log file')\n",
       "uploaded = files.upload()\n",
       "rename(list(uploaded.keys())[0], f'{RAW}.gz')\n",
       "\n",
       "try:\n",
       "  with gz.open(f'{RAW}.gz','rb') as g:\n",
       "    with open(RAW,'wb') as f:\n",
       "      copyfileobj(g, f)\n",
       "  print('🟢 Logs uploaded successfuly')\n",
       "except gz.BadGzipFile:\n",
       "  print('🔴 File must be plain text and gzipped')"
      ]
     },
     {
      "cell_type": "markdown",
      "metadata": {
       "id": "Cupq53w99l5T"
      },
      "source": [
       "---\n",
       "## 2. Parsing ✂️\n",
       "After being ingested, the logs must be parsed so you can work on them.  The strategy is to parse the logs and put them in a CSV format that can be later used by other tools."
      ]
     },
     {
      "cell_type": "code",
      "execution_count": null,
      "metadata": {
       "colab": {
        "base_uri": "https://localhost:8080/"
       },
       "executionInfo": {
        "elapsed": 373,
        "status": "ok",
        "timestamp": 1702496890092,
        "user": {
         "displayName": "José Lopes",
         "userId": "04430843439136972094"
        },
        "user_tz": 180
       },
       "id": "YjnuSVufeeTw",
       "outputId": "9c9a839d-6cb1-46cf-97fd-58787278a574"
      },
      "outputs": [],
      "source": [
       "#@title Parser\n",
       "from re import compile\n",
       "from csv import writer\n",
       "\n",
       "patterns = {\n",
       "    'apache_access_pag_roxas': compile(r'^(?P<src_ip>\\S+) \\S+ \\S+ \\[(?P<timestamp>[\\w:/]+\\s[+\\-]\\d{4})\\] \\\"(?P<http_method>\\S+) (?P<resource>\\S+)? (?P<http_version>\\S+)?\\\" (?P<http_status>\\d{3}|-) (?P<bytes>\\d+) \\\"(?P<referrer>.+)\\\" \\\"(?P<user_agent>.*?)$'),\n",
       "    'apache_error_pag_roxas': compile(r'^\\[(?P<timestamp>[^\\]]+)\\] \\[(?P<level>[^\\]]+)\\] \\[pid (?P<pid>\\d+)[^\\]]+\\] \\[client (?P<src_ip>[^:]+):(?P<port>\\d+)\\] (?P<message>.+)$')\n",
       "}\n",
       "\n",
       "regex = 'apache_access_pag_roxas'  #@param['apache_access_pag_roxas','apache_error_pag_roxas']\n",
       "\n",
       "pattern = patterns[regex]\n",
       "header = list(pattern.groupindex.keys())\n",
       "indexed = list()\n",
       "unindexed = list()\n",
       "success = 0\n",
       "errors = 0\n",
       "\n",
       "with open(RAW, 'r') as f:\n",
       "  for line in f.readlines():\n",
       "    try:\n",
       "      data = list(pattern.search(line).groupdict().values())\n",
       "      indexed.append(data)\n",
       "      success += 1\n",
       "    except AttributeError:\n",
       "      unindexed.append(line)\n",
       "      errors += 1\n",
       "\n",
       "with open(PARSED, 'w') as f:\n",
       "  w = writer(f)\n",
       "  w.writerow(header)\n",
       "  w.writerows(indexed)\n",
       "\n",
       "if errors > 0:\n",
       "  with open(ERRORS, 'w') as f:\n",
       "    f.write(''.join(unindexed))\n",
       "\n",
       "print(f'Parsing done: ✅ {success} logs written ({PARSED}), ⛔ {errors} errors found ({ERRORS})')\n"
      ]
     },
     {
      "cell_type": "code",
      "execution_count": null,
      "metadata": {
       "id": "Fmlrkf4URJWG"
      },
      "outputs": [],
      "source": [
       "#@title Optional: File Explorer\n",
       "with open(PARSED, 'r') as f:\n",
       "  for line in f.readlines():\n",
       "    print(line)"
      ]
     },
     {
      "cell_type": "markdown",
      "metadata": {
       "id": "hsyx2XfGES5v"
      },
      "source": [
       "---\n",
       "## 3. Normalization 🎚️\n",
       "Having the logs parsed, it's time to handle this data to make it more useful for use."
      ]
     },
     {
      "cell_type": "code",
      "execution_count": null,
      "metadata": {
       "colab": {
        "base_uri": "https://localhost:8080/"
       },
       "executionInfo": {
        "elapsed": 815,
        "status": "ok",
        "timestamp": 1702497126409,
        "user": {
         "displayName": "José Lopes",
         "userId": "04430843439136972094"
        },
        "user_tz": 180
       },
       "id": "xA4QUPPKEZ2w",
       "outputId": "1bd7bcfd-c8c7-4e65-9ad5-8129ca0b4fc4"
      },
      "outputs": [],
      "source": [
       "#@title Data Frame Load\n",
       "import pandas as pd\n",
       "\n",
       "pd.options.display.max_colwidth = None\n",
       "pd.options.display.max_rows = None\n",
       "pd.options.display.precision = 2\n",
       "\n",
       "df = pd.read_csv(PARSED)\n",
       "\n",
       "print(f'🟢 Loaded {len(df)} rows, {len(df.columns)} columns')"
      ]
     },
     {
      "cell_type": "code",
      "execution_count": null,
      "metadata": {
       "cellView": "form",
       "colab": {
        "base_uri": "https://localhost:8080/"
       },
       "executionInfo": {
        "elapsed": 253,
        "status": "ok",
        "timestamp": 1702497177739,
        "user": {
         "displayName": "José Lopes",
         "userId": "04430843439136972094"
        },
        "user_tz": 180
       },
       "id": "NWHoe1GYw0UW",
       "outputId": "519914ac-b558-4881-af3e-3c3bad40c392"
      },
      "outputs": [],
      "source": [
       "#@title Data Preparation\n",
       "#\n",
       "# EXAMPLES\n",
       "#\n",
       "df.head(10)\n",
       "# df.tail()\n",
       "# df.sample(frac=0.1, random_state=529)\n",
       "# df.columns\n",
       "# df.columns.values\n",
       "# df.dtypes\n",
       "# df.info()\n",
       "# df.describe()\n",
       "# df.sort_values('timestamp', ascending=False)\n",
       "# df.sort_values(['timestamp', 'src_ip'], ascending=[True,False])\n",
       "# df['total'] = df['attack'] + df['defense']  # creates a new field based on others\n",
       "\n",
       "\n",
       "#\n",
       "# APACHE DATA\n",
       "#\n",
       "apache_timestamp = '%d/%b/%Y:%H:%M:%S %z'     # 12/Nov/2023:12:32:16 +0000\n",
       "# nginx_timestamp  = '%a %b %d %H:%M:%S.%f %Y'  # Fri Dec 01 22:19:36.814868 2023\n",
       "timestamp = apache_timestamp\n",
       "df['timestamp'] = pd.to_datetime(df['timestamp'], format=timestamp, utc=True)\n",
       "\n",
       "from urllib.parse import unquote\n",
       "df['resource'] = df['resource'].apply(unquote)\n",
       "\n",
       "\n",
       "#\n",
       "# STATISTICS\n",
       "#\n",
       "# df.groupby(['src_ip']).count()\n",
       "# df.groupby(['timestamp', 'src_ip']).count().sort_values('http_method', ascending=False).head()\n",
       "print(f'🟢 Data is ready: {len(df)} rows, {len(df.columns)} columns')"
      ]
     },
     {
      "cell_type": "markdown",
      "metadata": {
       "id": "hpH6jq-1O9sT"
      },
      "source": [
       "---\n",
       "# 3. Filtering 🛠\n",
       "The last step is to filter out the data to keep only the parts you will actually use."
      ]
     },
     {
      "cell_type": "code",
      "execution_count": null,
      "metadata": {
       "id": "z5FdWWq-PB2X"
      },
      "outputs": [],
      "source": [
       "#@title Filter 1\n",
       "#\n",
       "# EXAMPLES\n",
       "#\n",
       "# df[['src_ip', 'path']][0:10]\n",
       "# df.iloc[4:12]\n",
       "# df.loc[df['src_ip'] == '176.29.111.26']\n",
       "# df.loc[(df['src_ip'] == '176.29.111.26') & ~(df['http_method'] == 'GET')]\n",
       "# df.reset_index(drop=True, inplace=True)\n",
       "# df[~df['path'].str.contains('sleep\\(')].head()\n",
       "# df[~df['user_agent'].str.contains(r'SLEEP\\(\\d+\\)', regex=True, case=False)]\n",
       "# df.loc[df['src_ip'] == '159.223.105.70', 'src_ip'] = 'REDACTED'\n",
       "# df.loc[df['src_ip'] == '179.182.216.200', ['path','user_agent']] = 'SUSPICIOUS'\n",
       "# df.loc[df['src_ip'] == '179.182.216.200', ['path','user_agent']] = ['SUSPICIOUS_PA','SUSPICIOUS_UA']\n",
       "df = df.sort_values('timestamp')\n",
       "\n",
       "# suspicious_ip = ['176.29.111.269', '64.227.19.165', '66.249.93.36', '189.40.75.35']\n",
       "# df[df['src_ip'].isin(suspicious_ip)].head()\n",
       "\n",
       "print(f'🟢 Filters applied')"
      ]
     },
     {
      "cell_type": "markdown",
      "metadata": {
       "id": "eKYx9OF2Tmoj"
      },
      "source": [
       "---\n",
       "## 4. Investigation 🔍\n",
       "All data is in place and ready to use so in this section you will perform operations and visualizations to find the information you need."
      ]
     },
     {
      "cell_type": "code",
      "execution_count": null,
      "metadata": {
       "colab": {
        "base_uri": "https://localhost:8080/"
       },
       "executionInfo": {
        "elapsed": 315,
        "status": "ok",
        "timestamp": 1702492420142,
        "user": {
         "displayName": "José Lopes",
         "userId": "04430843439136972094"
        },
        "user_tz": 180
       },
       "id": "QTrTCo0iYWmH",
       "outputId": "70772b96-a804-4f85-b5b9-f4bfd2df560c"
      },
      "outputs": [],
      "source": [
       "print(f'First log: {str(df.loc[df.index[0]][\"timestamp\"])}')\n",
       "print(f'Last log.: {str(df.loc[df.index[-1]][\"timestamp\"])}')"
      ]
     },
     {
      "cell_type": "code",
      "execution_count": null,
      "metadata": {
       "colab": {
        "base_uri": "https://localhost:8080/",
        "height": 585
       },
       "executionInfo": {
        "elapsed": 351,
        "status": "ok",
        "timestamp": 1702295291361,
        "user": {
         "displayName": "José Lopes",
         "userId": "04430843439136972094"
        },
        "user_tz": 180
       },
       "id": "pol04Dd7Tqu0",
       "outputId": "0e7f26b4-264f-447e-a77b-6bb74910ff73"
      },
      "outputs": [],
      "source": [
       "# df.to_csv('output.csv', index=False)\n",
       "\n",
       "ax = df['src_ip'].value_counts().plot(kind='bar', title='Source IP Count')\n",
       "ax.set_xlabel('Source IP')\n",
       "ax.set_ylabel('Count')"
      ]
     },
     {
      "cell_type": "markdown",
      "metadata": {
       "id": "FRroL71GBiaB"
      },
      "source": [
       "## Pro Tips 💡\n",
       "\n",
       "You can run shell commands in this notebook either inline with `!command args` or using a magic funcion to make the whole cell act as a terminal:\n",
       "\n",
       "```shell\n",
       "%%shell\n",
       "command_1 args\n",
       "command_n args\n",
       "```"
      ]
     }
    ],
    "metadata": {
     "colab": {
      "authorship_tag": "ABX9TyNMseZZFH93tWTJo2wDYJbg",
      "provenance": [],
      "toc_visible": true
     },
     "kernelspec": {
      "display_name": "Python 3",
      "name": "python3"
     },
     "language_info": {
      "name": "python"
     }
    },
    "nbformat": 4,
    "nbformat_minor": 0
   }
   