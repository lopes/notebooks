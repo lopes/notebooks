{
 "cells": [
  {
   "cell_type": "markdown",
   "id": "7sCgKYMLqyfg",
   "metadata": {
    "id": "7sCgKYMLqyfg"
   },
   "source": [
    "# Firewall Log Analysis\n",
    "Analyzes firewall logs."
   ]
  },
  {
   "cell_type": "markdown",
   "id": "opWL2LMsNvsl",
   "metadata": {
    "id": "opWL2LMsNvsl"
   },
   "source": [
    "---\n",
    "## Data Load and Preparation\n",
    "Import the CSV file.  Expected columns:\n",
    "\n",
    "- timestamp: ISO 8601\n",
    "- source IP\n",
    "- destination IP\n",
    "- destination port\n",
    "- transport layer protocol"
   ]
  },
  {
   "cell_type": "code",
   "execution_count": null,
   "id": "JpNS7Bz4OpsD",
   "metadata": {
    "colab": {
     "base_uri": "https://localhost:8080/",
     "height": 127
    },
    "id": "JpNS7Bz4OpsD",
    "outputId": "3ef14240-eb1a-4e57-866e-4a325a9889d2"
   },
   "outputs": [],
   "source": [
    "#@title Upload\n",
    "from os import rename\n",
    "from google.colab import files\n",
    "\n",
    "import pandas as pd\n",
    "\n",
    "LOGS = 'logs.csv'\n",
    "\n",
    "print('Select and upload the firewall logs')\n",
    "uploaded = files.upload()\n",
    "rename(list(uploaded.keys())[0], f'{LOGS}')\n",
    "print('🟢 Logs uploaded successfuly')\n",
    "\n",
    "df = pd.DataFrame(pd.read_csv(LOGS))\n",
    "df['timestamp'] = pd.to_datetime(df['timestamp'])\n",
    "print('🟢 Data loaded successfuly')"
   ]
  },
  {
   "cell_type": "markdown",
   "id": "zkZjImxeQWuO",
   "metadata": {
    "id": "zkZjImxeQWuO"
   },
   "source": [
    "---\n",
    "## Analysis"
   ]
  },
  {
   "cell_type": "code",
   "execution_count": null,
   "id": "f9a327fe",
   "metadata": {
    "cellView": "form",
    "colab": {
     "base_uri": "https://localhost:8080/",
     "height": 661
    },
    "id": "f9a327fe",
    "outputId": "8f44a051-b144-4439-a798-7ab0b94b0ad2"
   },
   "outputs": [],
   "source": [
    "#@title General Analysis\n",
    "\n",
    "from dateutil import tz\n",
    "from IPython.display import display, Markdown\n",
    "\n",
    "\n",
    "display(Markdown(f'''\n",
    "### 🧮 Number of Connections (logs)\n",
    "`{len(df.index)}`\n",
    "\n",
    "### ⏱️ First Event\\'s Timestamp\n",
    "`{df['timestamp'].iloc[0].astimezone(tz.tzlocal())}`\n",
    "\n",
    "### ⏱️ Time Range\n",
    "`{(df['timestamp'].iloc[-1]-df['timestamp'].iloc[0]).total_seconds()}` seconds\n",
    "\n",
    "### ⬆️ Source IPs ({df['udm.principal.ip'].nunique()})\n",
    "`{sorted(df['udm.principal.ip'].unique())}`\n",
    "\n",
    "### ⬇️ Destination IPs ({df['udm.target.ip'].nunique()})\n",
    "`{sorted(df['udm.target.ip'].unique())}`\n",
    "\n",
    "### 🚪 Destination Ports ({df['udm.target.port'].nunique()})\n",
    "`{sorted(df['udm.target.port'].unique())}`\n",
    "\n",
    "### 📡 Protocols ({df['udm.network.ip_protocol'].nunique()})\n",
    "`{sorted(df['udm.network.ip_protocol'].unique())}`\n",
    "'''))"
   ]
  },
  {
   "cell_type": "code",
   "execution_count": null,
   "id": "Z1p8wZu4S4_0",
   "metadata": {
    "cellView": "form",
    "colab": {
     "base_uri": "https://localhost:8080/",
     "height": 446
    },
    "id": "Z1p8wZu4S4_0",
    "outputId": "6b0c2159-bcca-48dc-b35e-efd3b69621bd"
   },
   "outputs": [],
   "source": [
    "#@title Destination Port Distribution\n",
    "\n",
    "df['udm.target.port'].value_counts(ascending=False).head(10).plot(kind='pie', title='Top 10 Destination Ports') #, style='.-')"
   ]
  },
  {
   "cell_type": "code",
   "execution_count": null,
   "id": "iHuI0oAVTun1",
   "metadata": {
    "cellView": "form",
    "colab": {
     "base_uri": "https://localhost:8080/",
     "height": 446
    },
    "id": "iHuI0oAVTun1",
    "outputId": "3c833e57-4d84-40f3-b69c-0bdab85c69df"
   },
   "outputs": [],
   "source": [
    "#@title Destination IP Distribution\n",
    "\n",
    "df['udm.target.ip'].value_counts(ascending=False).head(10).plot(kind='pie', title='Top 10 Destination IPs')"
   ]
  }
 ],
 "metadata": {
  "colab": {
   "provenance": []
  },
  "kernelspec": {
   "display_name": "Python 3 (ipykernel)",
   "language": "python",
   "name": "python3"
  },
  "language_info": {
   "codemirror_mode": {
    "name": "ipython",
    "version": 3
   },
   "file_extension": ".py",
   "mimetype": "text/x-python",
   "name": "python",
   "nbconvert_exporter": "python",
   "pygments_lexer": "ipython3",
   "version": "3.9.17"
  }
 },
 "nbformat": 4,
 "nbformat_minor": 5
}
