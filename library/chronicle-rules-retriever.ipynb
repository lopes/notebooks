{
 "cells": [
  {
   "cell_type": "markdown",
   "metadata": {
    "id": "e_I6_lJeAWp_"
   },
   "source": [
    "---\n",
    "# 1. Chronicle Authentication 🔒\n",
    "To initiate an authenticated session in Chronicle, begin by uploading your keyfile."
   ]
  },
  {
   "cell_type": "code",
   "execution_count": null,
   "metadata": {
    "cellView": "form",
    "colab": {
     "base_uri": "https://localhost:8080/",
     "height": 109
    },
    "executionInfo": {
     "elapsed": 15214,
     "status": "ok",
     "timestamp": 1702561938059,
     "user": {
      "displayName": "José Lopes",
      "userId": "04430843439136972094"
     },
     "user_tz": 180
    },
    "id": "3YNH6ePJA5ox",
    "outputId": "70296060-511b-41c0-ce40-0b2129acf7ce"
   },
   "outputs": [],
   "source": [
    "#@title Keyfile Upload\n",
    "from os import rename\n",
    "from google.colab import files\n",
    "\n",
    "KEYFILE = 'chronicle.key'\n",
    "\n",
    "print('Select and upload the rule data')\n",
    "uploaded = files.upload()\n",
    "rename(list(uploaded.keys())[0], f'{KEYFILE}')\n",
    "print('🟢 Keyfile uploaded successfuly')"
   ]
  },
  {
   "cell_type": "code",
   "execution_count": null,
   "metadata": {
    "cellView": "form",
    "colab": {
     "base_uri": "https://localhost:8080/"
    },
    "executionInfo": {
     "elapsed": 305,
     "status": "ok",
     "timestamp": 1702561944116,
     "user": {
      "displayName": "José Lopes",
      "userId": "04430843439136972094"
     },
     "user_tz": 180
    },
    "id": "-lpK52K-jt8D",
    "outputId": "c6f6c976-6c7e-4155-c40f-c246d863c3c8"
   },
   "outputs": [],
   "source": [
    "#@title Session Start\n",
    "from google.oauth2 import service_account\n",
    "from google.auth.transport.requests import AuthorizedSession\n",
    "from googleapiclient import _auth\n",
    "\n",
    "def init_webclient(keyfile, region=\"North America\"):\n",
    "  SCOPES = [\n",
    "      'https://www.googleapis.com/auth/chronicle-backstory',  # regular backstory API\n",
    "      'https://www.googleapis.com/auth/malachite-ingestion',  # ingestion API\n",
    "      'https://www.googleapis.com/auth/cloud-platform'        # dataplane API (experimenting)\n",
    "  ]\n",
    "  if region == 'North America': region_prefix = ''; cbn_region = 'US'; cli_region = 'US'\n",
    "  elif region == 'Europe': region_prefix = 'europe-'; cbn_region = 'EUROPE'; cli_region = 'EUROPE'\n",
    "  elif region == 'United Kingdom': region_prefix = 'europe-west2-'; cbn_region = 'EUROPE'; cli_region = 'EUROPE-WEST2'\n",
    "  elif region == 'Asia (Singapore)': region_prefix = 'asia-southeast1-'; cbn_region = 'ASIA'; cli_region = 'ASIA-SOUTHEAST1'\n",
    "  elif region == 'Australia (Sydney)': region_prefix = 'australia-southeast1-'; cbn_region = 'AUSTRALIA'; cli_region = 'AUSTRALIA-SOUTHEAST1'\n",
    "  elif region == 'Tel Aviv': region_prefix = 'me-west1-'; cbn_region = 'AUSTRALIA'; cli_region = 'ME-WEST1'\n",
    "  credentials = service_account.Credentials.from_service_account_file(keyfile, scopes=SCOPES)\n",
    "  http_client = _auth.authorized_http(credentials)\n",
    "  session = AuthorizedSession(credentials)\n",
    "  return (http_client, session, region_prefix, cbn_region, cli_region)\n",
    "\n",
    "http_client, session, region_prefix, cbn_region, cli_region = init_webclient(KEYFILE)\n",
    "print('🟢 Webclient initialized')"
   ]
  },
  {
   "cell_type": "markdown",
   "metadata": {
    "id": "g1XRVBkYAo_n"
   },
   "source": [
    "---\n",
    "# 2. Rules Export 📤\n",
    "Once a session has been established, you have the capability to retrieve the rules and export the selected fields."
   ]
  },
  {
   "cell_type": "code",
   "execution_count": null,
   "metadata": {
    "cellView": "form",
    "colab": {
     "base_uri": "https://localhost:8080/"
    },
    "executionInfo": {
     "elapsed": 1338,
     "status": "ok",
     "timestamp": 1702561978248,
     "user": {
      "displayName": "José Lopes",
      "userId": "04430843439136972094"
     },
     "user_tz": 180
    },
    "id": "OvEpjWA1DX3D",
    "outputId": "e92b4c17-342e-4887-95f2-c0d93626adf4"
   },
   "outputs": [],
   "source": [
    "#@title Load\n",
    "from urllib.parse import urlencode\n",
    "from http import HTTPStatus\n",
    "from json import loads\n",
    "\n",
    "def request(http_client, region_prefix, page_size=2000, page_token=''):\n",
    "  url_params = {'page_size': page_size}\n",
    "  if page_token:\n",
    "    url_params['page_token'] = page_token\n",
    "  uri = f'https://{region_prefix}backstory.googleapis.com/v2/detect/rules?{urlencode(url_params)}'\n",
    "  res = http_client.request(uri, 'GET')\n",
    "  if res[0].status == HTTPStatus.OK:\n",
    "    return loads(res[1])\n",
    "  else:\n",
    "    return loads(res[1]).get('error').get('message')\n",
    "\n",
    "in_rules = request(http_client, region_prefix)\n",
    "print(f'🟢 {len(in_rules[\"rules\"])} rules loaded from Chronicle')"
   ]
  },
  {
   "cell_type": "code",
   "execution_count": null,
   "metadata": {
    "cellView": "form",
    "colab": {
     "base_uri": "https://localhost:8080/",
     "height": 160
    },
    "executionInfo": {
     "elapsed": 333,
     "status": "ok",
     "timestamp": 1702496120287,
     "user": {
      "displayName": "José Lopes",
      "userId": "04430843439136972094"
     },
     "user_tz": 180
    },
    "id": "WEYKI7rdKe5i",
    "outputId": "dd950a95-57fe-4a5b-8ec2-c0989e4e2151"
   },
   "outputs": [],
   "source": [
    "#@title Export\n",
    "from csv import writer\n",
    "\n",
    "RULES = 'chronicle-rules.csv'\n",
    "\n",
    "out_rules = list()\n",
    "header = ['name', 'description',\n",
    "          'severity', 'priority', 'mitre_technique', 'detection_score',\n",
    "          'reference', 'author', 'response',\n",
    "          'id', 'type', 'status', 'last_update']\n",
    "\n",
    "for rule in in_rules['rules']:\n",
    "  try:\n",
    "    out_rules.append([\n",
    "        rule['ruleName'],\n",
    "        rule['metadata']['description'],\n",
    "        rule['metadata']['severity'],\n",
    "        rule['metadata']['priority'],\n",
    "        rule['metadata']['mitre_technique'],\n",
    "        rule['metadata']['detection_score'],\n",
    "        rule['metadata']['reference'],\n",
    "        rule['metadata']['author'],\n",
    "        rule['metadata']['response'],\n",
    "        rule['ruleId'],\n",
    "        rule['ruleType'],\n",
    "        rule['liveRuleEnabled'],\n",
    "        rule['versionCreateTime']\n",
    "    ])\n",
    "  except KeyError:\n",
    "    print(f'🟡 {rule[\"ruleName\"]}: not parsed, check the meta fields')\n",
    "\n",
    "with open(f'{RULES}', 'w') as f:\n",
    "  write = writer(f)\n",
    "  write.writerow(header)\n",
    "  write.writerows(out_rules)\n",
    "\n",
    "print(f'🟢 {len(out_rules)} rules exported in {RULES}')\n",
    "files.download(RULES)"
   ]
  }
 ],
 "metadata": {
  "colab": {
   "authorship_tag": "ABX9TyNExAYKPlUWMmyXyOc0clQQ",
   "collapsed_sections": [
    "Vk8d-yME_-0h",
    "e_I6_lJeAWp_"
   ],
   "provenance": [],
   "toc_visible": true
  },
  "kernelspec": {
   "display_name": "Python 3",
   "name": "python3"
  },
  "language_info": {
   "name": "python"
  }
 },
 "nbformat": 4,
 "nbformat_minor": 0
}
