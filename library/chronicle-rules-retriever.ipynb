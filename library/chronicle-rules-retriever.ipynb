{
 "cells": [
  {
   "cell_type": "markdown",
   "metadata": {
    "id": "o9pGTFnhuAaL"
   },
   "source": [
    "# Google Chronicle SIEM: Detection Rules Retriever\n",
    "Connects to Chronicle SIEM through its API, gets all detection rules there, and export some of their metadata in CSV format."
   ]
  },
  {
   "cell_type": "markdown",
   "metadata": {
    "id": "e_I6_lJeAWp_"
   },
   "source": [
    "---\n",
    "## 1. Chronicle Authentication 🔒"
   ]
  },
  {
   "cell_type": "code",
   "execution_count": null,
   "metadata": {
    "cellView": "form",
    "colab": {
     "base_uri": "https://localhost:8080/",
     "height": 109
    },
    "executionInfo": {
     "elapsed": 11351,
     "status": "ok",
     "timestamp": 1705684199829,
     "user": {
      "displayName": "José Lopes",
      "userId": "04430843439136972094"
     },
     "user_tz": 180
    },
    "id": "3YNH6ePJA5ox",
    "outputId": "371a519d-6b7c-4025-9a0b-652e77b8b619"
   },
   "outputs": [],
   "source": [
    "#@title Keyfile Upload\n",
    "from os import rename\n",
    "from google.colab import files\n",
    "\n",
    "KEYFILE = 'chronicle.key'\n",
    "\n",
    "print('Select and upload the rule data')\n",
    "uploaded = files.upload()\n",
    "rename(list(uploaded.keys())[0], f'{KEYFILE}')\n",
    "print('🟢 Keyfile uploaded successfuly')"
   ]
  },
  {
   "cell_type": "code",
   "execution_count": null,
   "metadata": {
    "cellView": "form",
    "colab": {
     "base_uri": "https://localhost:8080/"
    },
    "executionInfo": {
     "elapsed": 753,
     "status": "ok",
     "timestamp": 1705684200579,
     "user": {
      "displayName": "José Lopes",
      "userId": "04430843439136972094"
     },
     "user_tz": 180
    },
    "id": "-lpK52K-jt8D",
    "outputId": "f147a19d-7db6-443a-d3c1-eb2a0b5b0c9f"
   },
   "outputs": [],
   "source": [
    "#@title Session Start\n",
    "from google.oauth2 import service_account\n",
    "from google.auth.transport.requests import AuthorizedSession\n",
    "from googleapiclient import _auth\n",
    "\n",
    "def init_webclient(keyfile, region=\"North America\"):\n",
    "  SCOPES = [\n",
    "      'https://www.googleapis.com/auth/chronicle-backstory',  # regular backstory API\n",
    "      'https://www.googleapis.com/auth/malachite-ingestion',  # ingestion API\n",
    "      'https://www.googleapis.com/auth/cloud-platform'        # dataplane API (experimenting)\n",
    "  ]\n",
    "  if region == 'North America': region_prefix = ''; cbn_region = 'US'; cli_region = 'US'\n",
    "  elif region == 'Europe': region_prefix = 'europe-'; cbn_region = 'EUROPE'; cli_region = 'EUROPE'\n",
    "  elif region == 'United Kingdom': region_prefix = 'europe-west2-'; cbn_region = 'EUROPE'; cli_region = 'EUROPE-WEST2'\n",
    "  elif region == 'Asia (Singapore)': region_prefix = 'asia-southeast1-'; cbn_region = 'ASIA'; cli_region = 'ASIA-SOUTHEAST1'\n",
    "  elif region == 'Australia (Sydney)': region_prefix = 'australia-southeast1-'; cbn_region = 'AUSTRALIA'; cli_region = 'AUSTRALIA-SOUTHEAST1'\n",
    "  elif region == 'Tel Aviv': region_prefix = 'me-west1-'; cbn_region = 'AUSTRALIA'; cli_region = 'ME-WEST1'\n",
    "  credentials = service_account.Credentials.from_service_account_file(keyfile, scopes=SCOPES)\n",
    "  http_client = _auth.authorized_http(credentials)\n",
    "  session = AuthorizedSession(credentials)\n",
    "  return (http_client, session, region_prefix, cbn_region, cli_region)\n",
    "\n",
    "http_client, session, region_prefix, cbn_region, cli_region = init_webclient(KEYFILE)\n",
    "print('🟢 Webclient initialized')"
   ]
  },
  {
   "cell_type": "markdown",
   "metadata": {
    "id": "g1XRVBkYAo_n"
   },
   "source": [
    "---\n",
    "## 2. Rules Export 📤\n",
    "Once a session has been established, you have the capability to retrieve the rules and export the selected fields."
   ]
  },
  {
   "cell_type": "code",
   "execution_count": null,
   "metadata": {
    "cellView": "form",
    "colab": {
     "base_uri": "https://localhost:8080/"
    },
    "executionInfo": {
     "elapsed": 1396,
     "status": "ok",
     "timestamp": 1705684211820,
     "user": {
      "displayName": "José Lopes",
      "userId": "04430843439136972094"
     },
     "user_tz": 180
    },
    "id": "OvEpjWA1DX3D",
    "outputId": "e9973f59-ae23-46ee-b50f-e1872a2392b0"
   },
   "outputs": [],
   "source": [
    "#@title Load\n",
    "from urllib.parse import urlencode\n",
    "from http import HTTPStatus\n",
    "from json import loads\n",
    "\n",
    "def request(http_client, region_prefix, page_size=2000, page_token=''):\n",
    "  url_params = {'page_size': page_size}\n",
    "  if page_token:\n",
    "    url_params['page_token'] = page_token\n",
    "  uri = f'https://{region_prefix}backstory.googleapis.com/v2/detect/rules?{urlencode(url_params)}'\n",
    "  res = http_client.request(uri, 'GET')\n",
    "  if res[0].status == HTTPStatus.OK:\n",
    "    return loads(res[1])\n",
    "  else:\n",
    "    return loads(res[1]).get('error').get('message')\n",
    "\n",
    "in_rules = request(http_client, region_prefix)\n",
    "print(f'🟢 {len(in_rules[\"rules\"])} rules loaded from Chronicle')"
   ]
  },
  {
   "cell_type": "code",
   "execution_count": null,
   "metadata": {
    "cellView": "form",
    "colab": {
     "base_uri": "https://localhost:8080/",
     "height": 213
    },
    "executionInfo": {
     "elapsed": 236,
     "status": "ok",
     "timestamp": 1705684216278,
     "user": {
      "displayName": "José Lopes",
      "userId": "04430843439136972094"
     },
     "user_tz": 180
    },
    "id": "WEYKI7rdKe5i",
    "outputId": "3a04bcaf-00bb-4a04-a198-8a0568138dca"
   },
   "outputs": [],
   "source": [
    "#@title Export\n",
    "from csv import writer\n",
    "\n",
    "RULES = 'chronicle-rules.csv'\n",
    "\n",
    "out_rules = list()\n",
    "header = ['name', 'description',\n",
    "          'severity', 'priority', 'mitre_technique', 'detection_score',\n",
    "          'reference', 'author', 'response',\n",
    "          'id', 'type', 'status', 'last_update']\n",
    "\n",
    "for rule in in_rules['rules']:\n",
    "  try:\n",
    "    out_rules.append([\n",
    "        rule['ruleName'],\n",
    "        rule['metadata']['description'],\n",
    "        rule['metadata']['severity'],\n",
    "        rule['metadata']['priority'],\n",
    "        rule['metadata']['mitre_technique'],\n",
    "        rule['metadata']['detection_score'],\n",
    "        rule['metadata']['reference'],\n",
    "        rule['metadata']['author'],\n",
    "        rule['metadata']['response'],\n",
    "        rule['ruleId'],\n",
    "        rule['ruleType'],\n",
    "        rule['liveRuleEnabled'],\n",
    "        rule['versionCreateTime']\n",
    "    ])\n",
    "  except KeyError:\n",
    "    print(f'🟡 {rule[\"ruleName\"]}: not parsed, check the meta fields')\n",
    "\n",
    "with open(f'{RULES}', 'w') as f:\n",
    "  write = writer(f)\n",
    "  write.writerow(header)\n",
    "  write.writerows(out_rules)\n",
    "\n",
    "print(f'🟢 {len(out_rules)} rules exported in {RULES}')\n",
    "files.download(RULES)"
   ]
  }
 ],
 "metadata": {
  "colab": {
   "authorship_tag": "ABX9TyPvbjIRZJlrDp9PtGSCtbkB",
   "collapsed_sections": [
    "Vk8d-yME_-0h",
    "e_I6_lJeAWp_"
   ],
   "provenance": [],
   "toc_visible": true
  },
  "kernelspec": {
   "display_name": "Python 3",
   "name": "python3"
  },
  "language_info": {
   "name": "python"
  }
 },
 "nbformat": 4,
 "nbformat_minor": 0
}
