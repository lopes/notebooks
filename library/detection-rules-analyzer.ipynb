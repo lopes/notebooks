{
 "cells": [
  {
   "cell_type": "markdown",
   "metadata": {
    "id": "fcGvRiP00NzG"
   },
   "source": [
    "---\n",
    "# 1. Data Ingestion ↵\n",
    "Start here, ingesting the CSV file with the rules data."
   ]
  },
  {
   "cell_type": "code",
   "execution_count": null,
   "metadata": {
    "colab": {
     "base_uri": "https://localhost:8080/",
     "height": 109
    },
    "executionInfo": {
     "elapsed": 99749,
     "status": "ok",
     "timestamp": 1702472255139,
     "user": {
      "displayName": "José Lopes",
      "userId": "04430843439136972094"
     },
     "user_tz": 180
    },
    "id": "_hm1UFW60Mdu",
    "outputId": "5afcfa41-cb4b-4c54-d7b8-7294747dc14a"
   },
   "outputs": [],
   "source": [
    "#@title Upload\n",
    "from os import rename\n",
    "from google.colab import files\n",
    "\n",
    "RULES = 'rules.csv'\n",
    "LAYER = 'layer.json'\n",
    "\n",
    "print('Select and upload the rule data')\n",
    "uploaded = files.upload()\n",
    "rename(list(uploaded.keys())[0], f'{RULES}')\n",
    "print('🟢 Rule data uploaded successfuly')"
   ]
  },
  {
   "cell_type": "markdown",
   "metadata": {
    "id": "NF6ByD8n2EyV"
   },
   "source": [
    "---\n",
    "# 2. Data Handling ✂\n",
    "Some preparations to get the data ready to be processed."
   ]
  },
  {
   "cell_type": "code",
   "execution_count": null,
   "metadata": {
    "colab": {
     "base_uri": "https://localhost:8080/"
    },
    "executionInfo": {
     "elapsed": 1485,
     "status": "ok",
     "timestamp": 1702472259145,
     "user": {
      "displayName": "José Lopes",
      "userId": "04430843439136972094"
     },
     "user_tz": 180
    },
    "id": "AxE28-ck2RVE",
    "outputId": "07937f2d-d1f8-4665-e924-930b16f94035"
   },
   "outputs": [],
   "source": [
    "#@title Data Load and Handling\n",
    "\n",
    "from urllib.parse import urlparse\n",
    "from re import compile\n",
    "\n",
    "import pandas as pd\n",
    "import matplotlib.pylab as plt\n",
    "import numpy as np\n",
    "import seaborn as sns\n",
    "\n",
    "\n",
    "def adjust_techniques(techniques):\n",
    "  try:\n",
    "    return ' '.join(set(x.strip() for x in techniques.split(',')))\n",
    "  except AttributeError:\n",
    "    return None\n",
    "\n",
    "def get_domain(url):\n",
    "    try:\n",
    "        return urlparse(url)[1]\n",
    "    except AttributeError:\n",
    "        return ''\n",
    "\n",
    "def int_score(score):\n",
    "  if score == 'excellent': return 5\n",
    "  elif score == 'very good': return 4\n",
    "  elif score == 'good': return 3\n",
    "  elif score == 'fair': return 2\n",
    "  elif score == 'basic': return 1\n",
    "  else: return 0\n",
    "\n",
    "def int_grade(grade):\n",
    "  if grade == 'critical': return 5\n",
    "  elif grade == 'high': return 4\n",
    "  elif grade == 'medium': return 3\n",
    "  elif grade == 'low': return 2\n",
    "  elif grade == 'info': return 1\n",
    "  else: return 0\n",
    "\n",
    "\n",
    "# loading and handling rules\n",
    "df_rules = pd.read_csv(RULES)\n",
    "df_rules = df_rules.replace(np.nan, None)\n",
    "# TODO: remove rules in staging here\n",
    "df_rules['severity'] = df_rules['severity'].str.lower()\n",
    "df_rules['priority'] = df_rules['priority'].str.lower()\n",
    "df_rules['detection_score'] = df_rules['detection_score'].str.lower()\n",
    "df_rules['severity_int'] = df_rules['severity'].apply(int_grade)\n",
    "df_rules['priority_int'] = df_rules['priority'].apply(int_grade)\n",
    "df_rules['detection_score_int'] = df_rules['detection_score'].apply(int_score)\n",
    "df_rules['mitre_technique'] = df_rules['mitre_technique'].apply(adjust_techniques)\n",
    "df_rules['mitre_technique'] = df_rules['mitre_technique'].str.upper()\n",
    "df_rules['mitre_technique'] = df_rules['mitre_technique'].astype(str)\n",
    "df_rules['referred_domain'] = df_rules['reference'].apply(get_domain)\n",
    "df_rules = df_rules.reset_index(drop=True)\n",
    "\n",
    "# handling mitre data\n",
    "techniques = dict()  # list of dicts to store data per technique\n",
    "re_techniques = compile(r'^T\\d+(\\.\\d+)?(\\s(T\\d+(\\.\\d+)?))*$')  # matches T8888 | T8888.888 | T8888 T8888.888...\n",
    "\n",
    "for index,rule in df_rules.iterrows():\n",
    "  try:\n",
    "    if re_techniques.search(str(rule['mitre_technique'])):\n",
    "      rule_ts = rule['mitre_technique'].split(' ')\n",
    "      for t in rule_ts:\n",
    "        if t not in techniques:\n",
    "          techniques[t] = {\n",
    "              'names': [rule['name']],\n",
    "              'references': [rule['reference']],\n",
    "              'severities': [rule['severity_int']],\n",
    "              'priorities': [rule['priority_int']],\n",
    "              'detection_scores': [rule['detection_score_int']]\n",
    "          }\n",
    "        else:\n",
    "          if rule['name'] not in techniques[t]['names']:\n",
    "            techniques[t]['names'].append(rule['name'])\n",
    "          if rule['reference'] not in techniques[t]['names']:\n",
    "            techniques[t]['references'].append(rule['reference'])\n",
    "          techniques[t]['severities'].append(rule['severity_int'])\n",
    "          techniques[t]['priorities'].append(rule['priority_int'])\n",
    "          techniques[t]['detection_scores'].append(rule['detection_score_int'])\n",
    "    else:\n",
    "      print(f'🔴 {rule[\"name\"]}: malformed mitre_technique')\n",
    "  except TypeError:\n",
    "    print(f'🟡 {rule[\"name\"]}: missing mitre_technique')\n",
    "\n",
    "# mitre att&ck statistics\n",
    "data = {\n",
    "    'mitre_technique': list(),\n",
    "    'count': list(),\n",
    "    'severity_mean': list(),\n",
    "    'priority_mean': list(),\n",
    "    'detection_score_mean': list()\n",
    "}\n",
    "for k,v in techniques.items():\n",
    "  data['mitre_technique'].append(k)\n",
    "  data['count'].append(len(v['names']))\n",
    "  data['severity_mean'].append(int(sum(v['severities'])/len(v['severities'])))\n",
    "  data['priority_mean'].append(int(sum(v['priorities'])/len(v['priorities'])))\n",
    "  data['detection_score_mean'].append(int(sum(v['detection_scores'])/len(v['detection_scores'])))\n",
    "df_techniques = pd.DataFrame(data)\n",
    "\n",
    "print('🟢 Data is ready')"
   ]
  },
  {
   "cell_type": "markdown",
   "metadata": {
    "id": "eaoMFmYL2F8s"
   },
   "source": [
    "---\n",
    "# 3. Charts ◵\n",
    "Visualizations and listings to represent data."
   ]
  },
  {
   "cell_type": "code",
   "execution_count": null,
   "metadata": {
    "cellView": "form",
    "colab": {
     "base_uri": "https://localhost:8080/"
    },
    "executionInfo": {
     "elapsed": 1058,
     "status": "ok",
     "timestamp": 1702472291466,
     "user": {
      "displayName": "José Lopes",
      "userId": "04430843439136972094"
     },
     "user_tz": 180
    },
    "id": "fS0x8gRZsX70",
    "outputId": "b36a22c4-cf27-4ce4-8412-22ea733a103f"
   },
   "outputs": [],
   "source": [
    "#@title Chart Style\n",
    "\n",
    "# full list in matplotlib.style.available\n",
    "style = 'dark_background'  #@param['Solarize_Light2', '_classic_test_patch', '_mpl-gallery', '_mpl-gallery-nogrid', 'bmh', 'classic', 'dark_background', 'fast', 'fivethirtyeight', 'ggplot', 'grayscale', 'seaborn-v0_8', 'seaborn-v0_8-bright', 'seaborn-v0_8-colorblind', 'seaborn-v0_8-dark', 'seaborn-v0_8-dark-palette', 'seaborn-v0_8-darkgrid', 'seaborn-v0_8-deep', 'seaborn-v0_8-muted', 'seaborn-v0_8-notebook', 'seaborn-v0_8-paper', 'seaborn-v0_8-pastel', 'seaborn-v0_8-poster', 'seaborn-v0_8-talk', 'seaborn-v0_8-ticks', 'seaborn-v0_8-white', 'seaborn-v0_8-whitegrid', 'tableau-colorblind10']\n",
    "plt.style.use(style)\n",
    "print(f'🟢 Style set to `{style}`')"
   ]
  },
  {
   "cell_type": "code",
   "execution_count": null,
   "metadata": {
    "cellView": "form",
    "colab": {
     "base_uri": "https://localhost:8080/",
     "height": 487
    },
    "executionInfo": {
     "elapsed": 1038,
     "status": "ok",
     "timestamp": 1702472294319,
     "user": {
      "displayName": "José Lopes",
      "userId": "04430843439136972094"
     },
     "user_tz": 180
    },
    "id": "9V5ucUiW484j",
    "outputId": "c162faac-2cea-41da-894d-696c0937adcb"
   },
   "outputs": [],
   "source": [
    "#@title Severities, Priorities, and Detection Scores\n",
    "\n",
    "fig = plt.figure()\n",
    "\n",
    "ax_pri = fig.add_subplot(311)\n",
    "ax_sev = fig.add_subplot(312)\n",
    "ax_sco = fig.add_subplot(313)\n",
    "\n",
    "ax_priorities = df_rules['priority'].value_counts().plot(kind='barh', ax=ax_pri)\n",
    "# ax_priorities.set_xlabel('Count')\n",
    "ax_priorities.set_ylabel('Priority')\n",
    "\n",
    "ax_severities = df_rules['severity'].value_counts().plot(kind='barh', ax=ax_sev)\n",
    "# ax_severities.set_xlabel('Count')\n",
    "ax_severities.set_ylabel('Severity')\n",
    "\n",
    "ax_scores = df_rules['detection_score'].value_counts().plot(kind='barh', ax=ax_sco)\n",
    "ax_scores.set_xlabel('Count')\n",
    "ax_scores.set_ylabel('Detection Score')\n",
    "\n",
    "fig.tight_layout()\n",
    "plt.show()"
   ]
  },
  {
   "cell_type": "code",
   "execution_count": null,
   "metadata": {
    "cellView": "form",
    "colab": {
     "base_uri": "https://localhost:8080/",
     "height": 472
    },
    "executionInfo": {
     "elapsed": 1140,
     "status": "ok",
     "timestamp": 1702472299964,
     "user": {
      "displayName": "José Lopes",
      "userId": "04430843439136972094"
     },
     "user_tz": 180
    },
    "id": "BHK5ESVysxIo",
    "outputId": "be358a5f-6c0f-4950-d3b1-c472e94d96be"
   },
   "outputs": [],
   "source": [
    "#@title Referred Domains\n",
    "\n",
    "# df_rules['referred_domain'].value_counts()\n",
    "# for index,rule in df.iterrows():\n",
    "#   print(f'{rule[\"name\"]} - `{rule[\"reference\"]}`')\n",
    "\n",
    "ax_ref_domain = df_rules['referred_domain'].value_counts().plot(kind='barh', title='Referred Domains')\n",
    "ax_ref_domain.set_xlabel('Count')\n",
    "ax_ref_domain.set_ylabel('Domains')\n",
    "plt.show()"
   ]
  },
  {
   "cell_type": "code",
   "execution_count": null,
   "metadata": {
    "cellView": "form",
    "colab": {
     "base_uri": "https://localhost:8080/",
     "height": 730
    },
    "executionInfo": {
     "elapsed": 6388,
     "status": "ok",
     "timestamp": 1702480452781,
     "user": {
      "displayName": "José Lopes",
      "userId": "04430843439136972094"
     },
     "user_tz": 180
    },
    "id": "p1g0Keps3PlH",
    "outputId": "445e1562-7b6d-4b1a-a089-f42ab501b97f"
   },
   "outputs": [],
   "source": [
    "#@title Word Cloud\n",
    "# Colormap options follow the Matplotlib ones: https://matplotlib.org/stable/users/explain/colors/colormaps.html\n",
    "\n",
    "from wordcloud import WordCloud, STOPWORDS\n",
    "from PIL import Image\n",
    "\n",
    "# import urllib.request\n",
    "# urllib.request.urlretrieve(\n",
    "#   'https://domain/path/to/image',\n",
    "#   'nu-cloud.png')\n",
    "\n",
    "\n",
    "SHAPE = 'wc-shape.png'\n",
    "nu_palette = {\n",
    "    'The Purple': '820AD1FF',\n",
    "    'The Purple Sur Ton': 'AA68FFFF',\n",
    "    'Grey': 'E4E4E4FF',\n",
    "    'Off-White': 'F4F4F4FF',\n",
    "    'White': 'FFFFFFFF',\n",
    "    'Black': '000000FF'\n",
    "}\n",
    "wc_source = 'description'  #@param['description','mitre_technique']\n",
    "wc_mask = False             #@param['True','False']{type:'raw'}\n",
    "wc_bg_color = 'Black'      #@param['The Purple','The Purple Sur Ton','Grey','Off-White','White','Black']\n",
    "wc_colormap = 'Purples'    #@param['Purples','viridis','binary','cool','PRGn','Paired','tab20b','tab20c','rainbow']\n",
    "wc_max_words = 120         #@param{type:\"slider\",min:20,max:200,step:10}\n",
    "wc_contour_width = 0       #@param{type:\"slider\",min:0,max:10,step:1}\n",
    "wc_dpi = 100               #@param{type:\"slider\",min:100,max:300,step:100}\n",
    "\n",
    "if wc_mask:\n",
    "  wc_mask_shape = np.array(Image.open(SHAPE))\n",
    "else:\n",
    "  wc_mask_shape = None\n",
    "wc_stopwords = ['rule', 'rules', 'based', 'detected', 'many', 'someone']\n",
    "\n",
    "wc = WordCloud(\n",
    "    width=1920,\n",
    "    height=1080,\n",
    "    stopwords=wc_stopwords+list(STOPWORDS),\n",
    "    collocations=True,\n",
    "    max_words=wc_max_words,\n",
    "    background_color=f'#{nu_palette[wc_bg_color]}',\n",
    "    colormap=wc_colormap,\n",
    "    mask=wc_mask_shape,\n",
    "    contour_width=wc_contour_width,\n",
    "    contour_color='#AA68FFFF'\n",
    "    )\n",
    "wc.generate_from_text(' '.join(i for i in df_rules[wc_source].str.lower()))\n",
    "\n",
    "plt.figure(figsize=(16,9), dpi=wc_dpi)\n",
    "plt.axis('off')\n",
    "plt.imshow(wc, interpolation='bilinear')\n",
    "plt.show()"
   ]
  },
  {
   "cell_type": "code",
   "execution_count": null,
   "metadata": {
    "id": "0G3BtzcGuir3"
   },
   "outputs": [],
   "source": [
    "#@title MITRE ATT&CK Distribution\n",
    "\n",
    "# group techniques in tactics then plot a chart with number of rules per tactics\n",
    "\n",
    "\n",
    "\n",
    "# ax_mitre_count = df_techniques.sort_values('count', ascending=False).head(10).plot(kind='barh', x='count', y='mitre_technique', title='MITRE ATT&CK Distribution')\n",
    "# ax_ref_domain.set_xlabel('Mitre')\n",
    "# ax_ref_domain.set_ylabel('Domains')\n",
    "# plt.show()"
   ]
  },
  {
   "cell_type": "markdown",
   "metadata": {
    "id": "Pk727TmvCfs5"
   },
   "source": [
    "---\n",
    "# 4. MITRE Navigator Layer ⏧\n",
    "Generate a [MITRE Navigator](https://mitre-attack.github.io/attack-navigator/) 🔗 layer based on the loaded data."
   ]
  },
  {
   "cell_type": "code",
   "execution_count": null,
   "metadata": {
    "cellView": "form",
    "colab": {
     "base_uri": "https://localhost:8080/"
    },
    "executionInfo": {
     "elapsed": 1137,
     "status": "ok",
     "timestamp": 1702402949924,
     "user": {
      "displayName": "José Lopes",
      "userId": "04430843439136972094"
     },
     "user_tz": 180
    },
    "id": "x2QKd-kdDOi0",
    "outputId": "d7acc195-5977-4a0c-9fab-4fd22a3817a2"
   },
   "outputs": [],
   "source": [
    "#@title Layer Setup\n",
    "\n",
    "mitre_attack_version = '14'           #@param{type:'string'}\n",
    "mitre_navigator_version = '4.9.1'     #@param{type:'string'}\n",
    "mitre_navigator_layer_format = '4.5'  #@param{type:'string'}\n",
    "\n",
    "name = 'SIEM'                         #@param{type:'string'}\n",
    "source = 'SIEM'                       #@param{type:'string'}\n",
    "description = 'SIEM Rules'            #@param{type:'string'}\n",
    "\n",
    "tactic_background = True              #@param['True','False']{type:'raw'}\n",
    "tactic_hexcolor = '820AD1FF'          #@param{type:'string'}\n",
    "\n",
    "technique_hexcolor = '820AD1FF'       #@param{type:'string'}\n",
    "technique_comment = 'SIEM assesment'  #@param{type:'string'}\n",
    "technique_show_sub = False            #@param['True','False']{type:'raw'}\n",
    "\n",
    "# alt: d62d20ff (1-red), ffa700ff (2-orange), 008744ff (3-green)\n",
    "gradient_color_1 = 'F4F4F4FF'         #@param{type:'string'}\n",
    "gradient_color_2 = 'AA68FFFF'         #@param{type:'string'}\n",
    "gradient_color_3 = '820AD1FF'         #@param{type:'string'}\n",
    "gradient_min_value = 1                #@param{type:'integer'}\n",
    "gradient_max_value = 5                #@param{type:'integer'}\n",
    "\n",
    "extra_dimension = 'detection_scores'  #@param['severities','priorities','detection_scores']\n",
    "\n",
    "layer = {\n",
    "\t'name': name,\n",
    "\t'versions': {\n",
    "\t\t'attack': mitre_attack_version,\n",
    "\t\t'navigator': mitre_navigator_version,\n",
    "\t\t'layer': mitre_navigator_layer_format\n",
    "\t},\n",
    "\t'domain': 'enterprise-attack',\n",
    "\t'description': description + f' (scores based on: {extra_dimension})',\n",
    "\t'showTacticRowBackground': tactic_background,\n",
    "\t'tacticRowBackground': f'#{tactic_hexcolor}',\n",
    "  'gradient': {\n",
    "\t  'colors': [\n",
    "\t\t\tf'#{gradient_color_1}',\n",
    "\t\t\tf'#{gradient_color_2}',\n",
    "\t\t\tf'#{gradient_color_3}'\n",
    "\t\t],\n",
    "\t\t\"minValue\": gradient_min_value,\n",
    "\t\t\"maxValue\": gradient_max_value\n",
    "\t},\n",
    "\t'techniques': []\n",
    "}\n",
    "template_technique = {\n",
    "    'techniqueID': '',\n",
    "    # 'color': f'#{technique_hexcolor}',\n",
    "    'comment': technique_comment,\n",
    "    'metadata': [],\n",
    "    'links': [],\n",
    "    'enabled': True,\n",
    "    'showSubtechniques': technique_show_sub\n",
    "}\n",
    "\n",
    "print('🟢 Layer setup complete')"
   ]
  },
  {
   "cell_type": "code",
   "execution_count": null,
   "metadata": {
    "colab": {
     "base_uri": "https://localhost:8080/",
     "height": 35
    },
    "executionInfo": {
     "elapsed": 307,
     "status": "ok",
     "timestamp": 1702395556590,
     "user": {
      "displayName": "José Lopes",
      "userId": "04430843439136972094"
     },
     "user_tz": 180
    },
    "id": "TgSomU0WEXvA",
    "outputId": "e99f8ed6-71eb-4ba6-8867-ae6dd0c0857c"
   },
   "outputs": [],
   "source": [
    "#@title Layer Builder\n",
    "\n",
    "from copy import deepcopy\n",
    "from json import dump\n",
    "\n",
    "flatten_techniques = list()  # list of dicts, each dict is a technique\n",
    "\n",
    "for t in techniques:\n",
    "  technique = deepcopy(template_technique)\n",
    "  technique['techniqueID'] = t\n",
    "  technique['metadata'] = [{'name':'rule','value':x} for x in techniques[t]['names']]\n",
    "  technique['links'] = [{'label':'reference','url':x} for x in techniques[t]['references']]\n",
    "  technique['score'] = int(sum(techniques[t][extra_dimension]) / len(techniques[t][extra_dimension]))\n",
    "  flatten_techniques.append(technique)\n",
    "\n",
    "layer['techniques'] = flatten_techniques\n",
    "\n",
    "with open(LAYER, 'w') as f:\n",
    "  dump(layer, f)\n",
    "\n",
    "print('🟢 Layer is ready to roll')\n",
    "files.download(LAYER)"
   ]
  }
 ],
 "metadata": {
  "colab": {
   "authorship_tag": "ABX9TyMpRijyvxTM5AwMNRQ3FGDt",
   "provenance": [],
   "toc_visible": true
  },
  "kernelspec": {
   "display_name": "Python 3",
   "name": "python3"
  },
  "language_info": {
   "name": "python"
  }
 },
 "nbformat": 4,
 "nbformat_minor": 0
}
