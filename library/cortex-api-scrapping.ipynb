{
 "cells": [
  {
   "cell_type": "markdown",
   "metadata": {
    "id": "caViKYhJWqZd"
   },
   "source": [
    "# Cortex XDR API Scrapping\n",
    "This notebook implements routines to explore the Palo Alto's Cortex XDR API.\n",
    "\n",
    "## Requirements\n",
    "Requires a valid API key for Cortex XDR.  Use the Google Colab's Secret feature to store this key and name it following the pattern:\n",
    "\n",
    "`<key-type>_<key_id>`\n",
    "\n",
    "Where `key_type` should be `standard` or `advanced` and the `<key_id>` should be an integer, just like informed by Cortex when the key is created.  You'll need to inform these values right on the first step so the notebook can build the key label to retrieve it from Secrets."
   ]
  },
  {
   "cell_type": "code",
   "execution_count": null,
   "metadata": {
    "cellView": "form",
    "id": "h8o9_c3zWJPK"
   },
   "outputs": [],
   "source": [
    "#@title Setup\n",
    "\n",
    "from sys import argv\n",
    "from datetime import datetime, timezone\n",
    "from secrets import choice\n",
    "from string import ascii_letters, digits\n",
    "from hashlib import sha256\n",
    "from json import dumps\n",
    "from http.client import HTTPSConnection\n",
    "\n",
    "from google.colab import userdata\n",
    "\n",
    "\n",
    "KEY_TYPE = 'advanced'  #@param['standard', 'advanced']\n",
    "KEY_ID = 37            #@param{type:'integer'}\n",
    "FQDN = 'api-acme.xdr.us.paloaltonetworks.com'  #@param{type:'string'}\n",
    "\n",
    "key_label = f'{KEY_TYPE}_{KEY_ID}'\n",
    "\n",
    "try:\n",
    "  key = userdata.get(key_label)\n",
    "except:  # don't wanna import SecretNotFoundError\n",
    "  print(f'🔴 Key `{key_label}` not found')\n",
    "else:\n",
    "  print(f'🟢 Libraries and API key `{key_label}` loaded')"
   ]
  },
  {
   "cell_type": "code",
   "execution_count": null,
   "metadata": {
    "cellView": "form",
    "id": "rYDops5zbmT7"
   },
   "outputs": [],
   "source": [
    "#@title Functions\n",
    "\n",
    "def get_headers(key_id, key, key_type):\n",
    "  headers = {}\n",
    "  if key_type == 'advanced':\n",
    "    nonce = ''.join([choice(ascii_letters + digits) for _ in range(64)])\n",
    "    timestamp = int(datetime.now(timezone.utc).timestamp()) * 1000\n",
    "    auth_key = '%s%s%s' % (key, nonce, timestamp)\n",
    "    headers = {\n",
    "      'x-xdr-timestamp': str(timestamp),\n",
    "      'x-xdr-nonce': nonce,\n",
    "      'x-xdr-auth-id': str(key_id),\n",
    "      'Authorization': sha256(auth_key.encode('utf-8')).hexdigest()\n",
    "    }\n",
    "  else:\n",
    "    headers = {\n",
    "      'Authorization': key,\n",
    "      'x-xdr-auth-id': str(key_id)\n",
    "    }\n",
    "    return headers\n",
    "\n",
    "def get_payload(start, end):\n",
    "  # Lots of room for improvement here\n",
    "  payload = {\n",
    "    'request_data': {\n",
    "    'filters': [\n",
    "      {\n",
    "      'field': 'severity',\n",
    "      'operator': 'in',\n",
    "      'value': [\n",
    "        'low',\n",
    "        'medium',\n",
    "        'high'\n",
    "    ]\n",
    "      }\n",
    "    ],\n",
    "    'search_from': start,\n",
    "    'search_to': end,\n",
    "    'sort': {\n",
    "      'field': 'creation_time',\n",
    "      'keyword': 'desc'\n",
    "    }\n",
    "    }\n",
    "  }\n",
    "  return payload\n",
    "\n",
    "def request(key_id, key, key_type, fqdn, endpoint, start, end):\n",
    "  payload = get_payload(start, end)\n",
    "  headers = get_headers(key_id, key, key_type)\n",
    "  conn = HTTPSConnection(fqdn)\n",
    "  conn.request('POST', endpoint, dumps(payload), headers)\n",
    "  res = conn.getresponse()\n",
    "  data = res.read()\n",
    "  return data.decode('utf-8')\n",
    "\n",
    "def paginator(key_id, key, key_type, fqdn, endpoint, start, count, pages):\n",
    "  page = 1\n",
    "  base_name = f'cortex-alerts-{datetime.now().isoformat()}'\n",
    "  while page <= pages:\n",
    "    fname = f'{base_name}-{page}.json'\n",
    "    end = start + count\n",
    "    print(f'[{page:02d}/{pages:02d}] ', end='')\n",
    "    with open(fname, 'w') as f:\n",
    "      try:\n",
    "        res = request(key_id, key, key_type, fqdn, endpoint, start, end)\n",
    "      except:\n",
    "        print('Error fetching data from Cortex')\n",
    "        break\n",
    "      f.write(res)\n",
    "      print(f'Page {page} ({start:03d}-{end:03d}) stored in {fname}')\n",
    "    page += 1\n",
    "    start += count\n",
    "\n",
    "\n",
    "print(f'🟢 Loaded all basic functions')"
   ]
  },
  {
   "cell_type": "code",
   "execution_count": null,
   "metadata": {
    "cellView": "form",
    "id": "DQix5W4fdMot"
   },
   "outputs": [],
   "source": [
    "#@title Get Alerts\n",
    "#@markdown Reference: https://cortex-panw.stoplight.io/docs/cortex-xdr/813e387002342-get-all-alerts\n",
    "\n",
    "ENDPOINT = '/public_api/v1/alerts/get_alerts_multi_events'  #@param{type:'string'}\n",
    "START    = 0    #@param{type:'integer'}\n",
    "COUNT    = 100  #@param{type:'integer'}\n",
    "PAGES    = 10   #@param{type:'integer'}\n",
    "\n",
    "\n",
    "paginator(\n",
    "  KEY_ID,\n",
    "  key,\n",
    "  KEY_TYPE,\n",
    "  FQDN,\n",
    "  ENDPOINT,\n",
    "  START,\n",
    "  COUNT,\n",
    "  PAGES\n",
    ")"
   ]
  }
 ],
 "metadata": {
  "colab": {
   "provenance": []
  },
  "kernelspec": {
   "display_name": "Python 3",
   "name": "python3"
  },
  "language_info": {
   "name": "python"
  }
 },
 "nbformat": 4,
 "nbformat_minor": 0
}
