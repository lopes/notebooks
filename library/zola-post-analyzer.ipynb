{
 "cells": [
  {
   "cell_type": "markdown",
   "metadata": {
    "id": "WBHhF7GKr2qx"
   },
   "source": [
    "# Logbook Analyzer\n",
    "\n",
    "This notebook loads a Zola-like blog from GitHub and performs some analysis on it to provide you useful data and keep stuff in order."
   ]
  },
  {
   "cell_type": "markdown",
   "metadata": {
    "id": "IHc1ds_VxGgy"
   },
   "source": [
    "---"
   ]
  },
  {
   "cell_type": "code",
   "execution_count": null,
   "metadata": {
    "colab": {
     "base_uri": "https://localhost:8080/"
    },
    "executionInfo": {
     "elapsed": 294,
     "status": "ok",
     "timestamp": 1705671753802,
     "user": {
      "displayName": "José Lopes",
      "userId": "15487796509930233287"
     },
     "user_tz": 180
    },
    "id": "sf0-kMzaxEnK",
    "outputId": "67960436-3ee3-4ea7-d060-7be072d66992"
   },
   "outputs": [],
   "source": [
    "#@title Load: Configurations\n",
    "#@markdown Loads basic configurations for data load and analysis.\n",
    "\n",
    "from re import search, compile, M, S\n",
    "\n",
    "import pandas as pd\n",
    "\n",
    "USER = 'lopes'        #@param{type:'string'}\n",
    "REPO = 'logbook'      #@param{type:'string'}\n",
    "LEN_TITLE = 50        #@param{type:'integer'}\n",
    "LEN_DESCRIPTION = 75  #@param{type:'integer'}\n",
    "LEN_TAG = 15          #@param{type:'integer'}\n",
    "\n",
    "posts = list()\n",
    "nonconforming = list()\n",
    "\n",
    "re_fname = compile(r'^\\d{4}(-[a-z0-9]+)+.md$', flags=M)\n",
    "re_header = compile(r'^\\+{3}.*^\\+{3}', flags=M|S)\n",
    "re_title = compile(r'^\\s*title\\s*=\\s*\\\"(.+)\\\"\\s*$', flags=M)\n",
    "re_date = compile(r'^\\s*date\\s*=\\s*(\\d{4}-\\d{2}-\\d{2})\\s*$', flags=M)\n",
    "re_description = compile(r'^\\s*description\\s*=\\s*\\\"(.+)\\\"\\s*$', flags=M)\n",
    "re_tags = compile(r'^\\s*tags\\s*=\\s*\\[(.+)\\]\\s*$', flags=M)\n",
    "re_tag = compile(r'^[a-z0-9]+$', flags=M)\n",
    "\n",
    "print(f'🟢 All configurations loaded')"
   ]
  },
  {
   "cell_type": "code",
   "execution_count": null,
   "metadata": {
    "cellView": "form",
    "colab": {
     "base_uri": "https://localhost:8080/"
    },
    "executionInfo": {
     "elapsed": 2294,
     "status": "ok",
     "timestamp": 1705670389384,
     "user": {
      "displayName": "José Lopes",
      "userId": "15487796509930233287"
     },
     "user_tz": 180
    },
    "id": "B7PxNYUp39QB",
    "outputId": "77eaabaa-74e7-4166-d9e7-58e05c416622"
   },
   "outputs": [],
   "source": [
    "#@title Load: File\n",
    "#@markdown Loads or reloads data from GitHub.\n",
    "#@markdown Requires all configurations loaded.\n",
    "\n",
    "!rm -rf {REPO}\n",
    "!git clone https://github.com/{USER}/{REPO}.git\n",
    "\n",
    "print(f'\\n🟢 Data is loaded under ./{REPO}')"
   ]
  },
  {
   "cell_type": "code",
   "execution_count": null,
   "metadata": {
    "cellView": "form",
    "colab": {
     "base_uri": "https://localhost:8080/"
    },
    "executionInfo": {
     "elapsed": 248,
     "status": "ok",
     "timestamp": 1705670392708,
     "user": {
      "displayName": "José Lopes",
      "userId": "15487796509930233287"
     },
     "user_tz": 180
    },
    "id": "Wbkma5QZ3KPh",
    "outputId": "b101d6a0-37cd-4fd2-8fe9-f6dcbf6a8235"
   },
   "outputs": [],
   "source": [
    "#@title Load: Data\n",
    "#@markdown Loads data from files for further analysis.\n",
    "#@markdown Requires all configurations loaded.\n",
    "\n",
    "from os import walk\n",
    "from os.path import abspath, join\n",
    "from datetime import datetime\n",
    "\n",
    "for root,dirs,files in walk(abspath(join(REPO,'content')),topdown=False):\n",
    "  for f in files:\n",
    "    if f.lower().endswith('.md'):\n",
    "      if f != '_index.md':\n",
    "        if not re_fname.search(f) or len(f) > 40:\n",
    "          nonconforming.append({'file':join(root,f),'reason':'file name'})\n",
    "        with open(join(root,f),'r') as post:\n",
    "          p = post.read()\n",
    "          try:\n",
    "            header = re_header.search(p).group(0)\n",
    "            title = re_title.search(header).group(1)\n",
    "            date = datetime.strptime(re_date.search(header).group(1), '%Y-%m-%d')\n",
    "            description = re_description.search(header).group(1)\n",
    "            tags = re_tags.search(header).group(1).replace('\"','').replace(' ','').split(',')\n",
    "\n",
    "            if len(title) > LEN_TITLE: nonconforming.append({'file':join(root,f),'reason':'title length'})\n",
    "            if len(description) > LEN_DESCRIPTION: nonconforming.append({'file':join(root,f),'reason':'description length'})\n",
    "            for t in tags:\n",
    "              if not re_tag.search(t): nonconforming.append({'file':join(root,f),'reason':'bad tag'})\n",
    "              if len(t) > LEN_TAG: nonconforming.append({'file':join(root,f),'reason':'bad tag'})\n",
    "\n",
    "            posts.append({\n",
    "                'file': join(root,f),\n",
    "                'title': title,\n",
    "                'date': date,\n",
    "                'description': description,\n",
    "                'tags': tags\n",
    "            })\n",
    "          except AttributeError:\n",
    "            nonconforming.append({'file':join(root,f),'reason':'header'})\n",
    "\n",
    "df = pd.DataFrame(posts)\n",
    "df_errors = pd.DataFrame(nonconforming)\n",
    "\n",
    "print(f'🟢 {len(posts)} posts loaded')\n",
    "print(f'🟡 {len(nonconforming)} non-compliance')"
   ]
  },
  {
   "cell_type": "markdown",
   "metadata": {
    "id": "PpzDhJJK4RDy"
   },
   "source": [
    "---"
   ]
  },
  {
   "cell_type": "code",
   "execution_count": null,
   "metadata": {
    "cellView": "form",
    "id": "1TacJzq5mcgj"
   },
   "outputs": [],
   "source": [
    "#@title Data Show\n",
    "#@markdown Run it just if you want to see the data loaded.  Setup at your will.\n",
    "#@markdown Requires all data loaded.\n",
    "\n",
    "# df\n",
    "# df_errors.sort_values(by=['file'])"
   ]
  },
  {
   "cell_type": "code",
   "execution_count": null,
   "metadata": {
    "cellView": "form",
    "colab": {
     "base_uri": "https://localhost:8080/",
     "height": 514
    },
    "executionInfo": {
     "elapsed": 493,
     "status": "ok",
     "timestamp": 1705603849540,
     "user": {
      "displayName": "José Lopes",
      "userId": "15487796509930233287"
     },
     "user_tz": 180
    },
    "id": "hnbqSVvk6VIb",
    "outputId": "c0d520a0-2f3f-4768-f489-c701111e5fdb"
   },
   "outputs": [],
   "source": [
    "#@title Frequency Analysis\n",
    "#@markdown Chart of frequency of post creation.\n",
    "#@markdown Requires all data loaded.\n",
    "\n",
    "ts = df['date'].dt.to_period('M')\n",
    "ts.value_counts().sort_index().plot(kind='bar', title='Posts per Month' )"
   ]
  },
  {
   "cell_type": "code",
   "execution_count": null,
   "metadata": {
    "cellView": "form",
    "colab": {
     "base_uri": "https://localhost:8080/",
     "height": 786
    },
    "executionInfo": {
     "elapsed": 3344,
     "status": "ok",
     "timestamp": 1705600148715,
     "user": {
      "displayName": "José Lopes",
      "userId": "15487796509930233287"
     },
     "user_tz": 180
    },
    "id": "HozywJOMjWv4",
    "outputId": "0d9e40ce-c8b6-4d77-bc02-23ef4046047c"
   },
   "outputs": [],
   "source": [
    "#@title Word Cloud\n",
    "#@markdown Word cloud based on posts' descriptions.\n",
    "#@markdown Requires all data loaded.\n",
    "\n",
    "from wordcloud import WordCloud, STOPWORDS\n",
    "\n",
    "wc_stopwords = ['rule', 'rules', 'based', 'detected', 'many', 'someone', 'learn', 'using', 'para', 'de', 'e', 'na']\n",
    "\n",
    "wc = WordCloud(\n",
    "  width=1920,\n",
    "  height=1080,\n",
    "  stopwords=wc_stopwords+list(STOPWORDS),\n",
    "  collocations=True,\n",
    "  max_words=150,\n",
    "  mode='RGBA',\n",
    "  background_color=None,\n",
    "  colormap='rainbow'\n",
    ")\n",
    "wc.generate_from_text(' '.join(i for i in df['description'].str.lower()))\n",
    "\n",
    "wc.to_image()"
   ]
  },
  {
   "cell_type": "code",
   "execution_count": null,
   "metadata": {
    "colab": {
     "base_uri": "https://localhost:8080/"
    },
    "executionInfo": {
     "elapsed": 363,
     "status": "ok",
     "timestamp": 1705672093823,
     "user": {
      "displayName": "José Lopes",
      "userId": "15487796509930233287"
     },
     "user_tz": 180
    },
    "id": "Vg89EY5R2E1E",
    "outputId": "a86d2de5-2e6d-49f6-ab77-d0a4f01ea01f"
   },
   "outputs": [],
   "source": [
    "#@title Ad-Hoc Header Analyzer\n",
    "#@markdown Paste a header and run this snippet of code to have it analyzed.\n",
    "#@markdown Requires parameters from data.\n",
    "\n",
    "header = \"+++ title = \\\"Arch Linux Hardened Installation Guide\\\" date  = 2020-07-07 description = \\\"Step-by-step guide to perform a hardened Arch Linux installation.\\\"  [taxonomies] tags = [\\\"unix\\\", \\\"arch\\\", \\\"security\\\"]  [extra] image = \\\"images/logos/archlinux.png\\\" +++\" #@param{type:'string'}\n",
    "\n",
    "title = search(r'\\s+title\\s*=\\s*\"(.+?)\"\\s', header).group(1)\n",
    "date = search(r'\\s+date\\s*=\\s*([\\d-]+)\\s', header).group(1)\n",
    "description = search(r'\\s+description\\s*=\\s*\"(.+?)\"\\s', header).group(1)\n",
    "tags = search(r'\\s+tags\\s*=\\s*\\[(.*?)\\]', header).group(1)\n",
    "\n",
    "\n",
    "print(f'Title......: \"{title}\" ({len(title)} chars)')\n",
    "print(f'Date.......: {date}')\n",
    "print(f'Description: \"{description}\" ({len(description)} chars)')\n",
    "print(f'Tags.......: [{tags}]')"
   ]
  }
 ],
 "metadata": {
  "colab": {
   "authorship_tag": "ABX9TyMBMsBpvTDA3I8NgSq3TkZm",
   "provenance": []
  },
  "kernelspec": {
   "display_name": "Python 3",
   "name": "python3"
  },
  "language_info": {
   "name": "python"
  }
 },
 "nbformat": 4,
 "nbformat_minor": 0
}
