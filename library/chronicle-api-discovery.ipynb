{
 "cells": [
  {
   "cell_type": "markdown",
   "metadata": {
    "id": "hQHfxVCZr1CS"
   },
   "source": [
    "# Chronicle SIEM API Discovery\n",
    "This notebook is intended to aggregate basic functions to facilitate the use of the Chronicle SIEM API for exploratory and testing purposes (discovery).\n",
    "\n",
    "To start using it, generate an access key through a service account.  Then, in Google Colab, add this key as a new secret called `CHRONICLE_SIEM_KEY`."
   ]
  },
  {
   "cell_type": "code",
   "execution_count": null,
   "metadata": {
    "cellView": "form",
    "colab": {
     "base_uri": "https://localhost:8080/"
    },
    "id": "gj5E9PlZsVpd",
    "outputId": "5a6d285f-07ca-49d9-93de-b83d820b21bb"
   },
   "outputs": [],
   "source": [
    "#@title Session\n",
    "#@markdown Start from here initializing the session. When the authentication\n",
    "#@markdown is successful, use the `client` object to interact with Chronicle.\n",
    "\n",
    "from json import loads\n",
    "\n",
    "from google.auth.transport import requests\n",
    "from google.oauth2 import service_account\n",
    "\n",
    "from google.colab import userdata\n",
    "\n",
    "\n",
    "AUTHORIZATION_SCOPES = [\n",
    "  'https://www.googleapis.com/auth/chronicle-backstory',\n",
    "  'https://www.googleapis.com/auth/malachite-ingestion'\n",
    "]\n",
    "CHRONICLE_API_BASE_URL = \"https://backstory.googleapis.com\"\n",
    "\n",
    "def init_client(credentials, scopes=AUTHORIZATION_SCOPES):\n",
    "  '''\n",
    "  Obtains an authorized session using the provided credentials.\n",
    "  Args:\n",
    "    credentials (google.oauth2.service_account.Credentials): The service account credentials.\n",
    "  Returns:\n",
    "    requests.AuthorizedSession: An authorized session for making API calls.\n",
    "  '''\n",
    "  credentials = service_account.Credentials.from_service_account_info(\n",
    "    credentials,\n",
    "    scopes=AUTHORIZATION_SCOPES\n",
    "  )\n",
    "  return requests.AuthorizedSession(credentials)\n",
    "\n",
    "try:\n",
    "  client = init_client(loads(userdata.get('CHRONICLE_SIEM_KEY')))\n",
    "  print('🟢 Session is up and `client` is ready 🚀')\n",
    "except Exception as e:\n",
    "  print(f'🔴 Authentication failed: {e}')"
   ]
  },
  {
   "cell_type": "code",
   "execution_count": null,
   "metadata": {
    "cellView": "form",
    "colab": {
     "base_uri": "https://localhost:8080/"
    },
    "id": "1MGEVaRdvHQq",
    "outputId": "c7e22327-93b2-444b-e97e-bde614e28089"
   },
   "outputs": [],
   "source": [
    "#@title Reference Lists\n",
    "\n",
    "from datetime import datetime\n",
    "from json import dumps\n",
    "\n",
    "\n",
    "def get_lists(client, params):\n",
    "  '''\n",
    "  Obtain all Reference Lists in Chronicle SIEM.\n",
    "  Args:\n",
    "    client: Session for making API calls.\n",
    "  Returns:\n",
    "    List of strings of all all reference lists' names.\n",
    "  '''\n",
    "  url = f'{CHRONICLE_API_BASE_URL}/v2/lists'\n",
    "  res = client.request('GET', url, params=params)\n",
    "  res.raise_for_status()\n",
    "  return sorted([x['name'] for x in res.json()['lists']])\n",
    "\n",
    "def get_lines(client, list_name):\n",
    "  '''\n",
    "  Fetches all lines in a reference list.\n",
    "  Args:\n",
    "    client: Session for making API calls.\n",
    "    list_name: Name of the reference list.\n",
    "  Returns:\n",
    "    Full response from Chronicle API in JSON format.\n",
    "  '''\n",
    "  url = f'{CHRONICLE_API_BASE_URL}/v2/lists/{list_name}'\n",
    "  res = client.request('GET', url)\n",
    "  res.raise_for_status()\n",
    "  return res.json()\n",
    "\n",
    "\n",
    "dump = {\n",
    "  'timestamp': datetime.now().isoformat(),\n",
    "  'lists': list()\n",
    "}\n",
    "lists = get_lists(client, {'page_size':2000,'page_token':''})\n",
    "\n",
    "for l in lists:\n",
    "  dump['lists'].append(get_lines(client, l))\n",
    "\n",
    "print(dumps(dump))"
   ]
  },
  {
   "cell_type": "code",
   "execution_count": null,
   "metadata": {
    "cellView": "form",
    "colab": {
     "base_uri": "https://localhost:8080/"
    },
    "id": "uNKyG9J80pkW",
    "outputId": "579e5e29-4613-4e77-aa05-cb1876f673aa"
   },
   "outputs": [],
   "source": [
    "#@title Feeds\n",
    "\n",
    "from json import dumps\n",
    "\n",
    "def get_feeds(client):\n",
    "  '''\n",
    "  Fetches all feeds in Chronicle SIEM.\n",
    "  Args:\n",
    "    client: Session for making API calls.\n",
    "  Returns:\n",
    "    Feeds in JSON format.\n",
    "  '''\n",
    "  url = f'{CHRONICLE_API_BASE_URL}/v1/feeds'\n",
    "  res = client.request('GET', url)\n",
    "  res.raise_for_status()\n",
    "  return res.json()\n",
    "\n",
    "def get_feed(client, id):\n",
    "  '''\n",
    "  Fetches an specific feed in Chronicle SIEM based on its ID.\n",
    "  Args:\n",
    "    client: Session for making API calls.\n",
    "    id: ID of the feed (feed/{ID-HERE})\n",
    "  Returns:\n",
    "    Feed in JSON format.\n",
    "  '''\n",
    "  url = f'{CHRONICLE_API_BASE_URL}/v1/feeds/{id}'\n",
    "  res = client.request('GET', url)\n",
    "  res.raise_for_status()\n",
    "  return res.json()\n",
    "\n",
    "\n",
    "print(dumps(get_feeds(client)))"
   ]
  },
  {
   "cell_type": "code",
   "execution_count": null,
   "metadata": {
    "cellView": "form",
    "colab": {
     "base_uri": "https://localhost:8080/"
    },
    "id": "LW9k2OGg1L8S",
    "outputId": "cb6d1426-b3e5-4459-8186-8622dffee1ed"
   },
   "outputs": [],
   "source": [
    "#@title Rules\n",
    "\n",
    "\n",
    "def get_rules(client, params):\n",
    "  '''\n",
    "  Fetches detection rules in Chronicle SIEM.\n",
    "  Args:\n",
    "    client: Session for making API calls.\n",
    "    params: API call parameters.\n",
    "  Returns:\n",
    "    Rules in JSON format.\n",
    "  '''\n",
    "  url = f'{CHRONICLE_API_BASE_URL}/v2/detect/rules'\n",
    "  res = client.request('GET', url, params=params)\n",
    "  res.raise_for_status()\n",
    "  return res.json()\n",
    "\n",
    "print(get_rules(client, {'page_size':2000,'page_token':''}))"
   ]
  }
 ],
 "metadata": {
  "colab": {
   "provenance": []
  },
  "kernelspec": {
   "display_name": "Python 3",
   "name": "python3"
  },
  "language_info": {
   "name": "python"
  }
 },
 "nbformat": 4,
 "nbformat_minor": 0
}
